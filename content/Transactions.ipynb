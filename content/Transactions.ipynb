{
  "cells": [
    {
      "cell_type": "markdown",
      "metadata": {
        "editable": true,
        "slideshow": {
          "slide_type": ""
        },
        "tags": []
      },
      "source": [
        "# Transactions (10pts)\n",
        "\n",
        "This problem relates to managing client accounts. In the real world, banks keep track of client balances in a \"ledger\", that is to say a huge database of all transaction records, in order to verify a client's current balance.\n",
        "\n",
        "Here are some Python concepts and keywords relevant to this challenge. Feel free to look them up for more information.\n",
        "\n",
        "- List manipulation\n",
        "- Dictionary manipulation\n",
        "- Tuples\n",
        "- Tuple unpacking\n",
        "- String modulo operator/printf-style string formatting\n",
        "- String escape sequence `\\n`\n",
        "\n",
        "## 1. Simple transactions\n",
        "\n",
        "Let's start off simple to try manage some basic numbers, get the current balance of a client assuming we have a list of deposits/withdrawals. We also assume the **account balance can also go into negative**. In that case, the account is said to have been overdrawn and the bank temporarily lends money for the client. (In the real world, only some account tiers/banks allow current account overdrafts.)\n",
        "\n",
        "Complete the following code."
      ]
    },
    {
      "cell_type": "code",
      "execution_count": null,
      "metadata": {
        "editable": true,
        "slideshow": {
          "slide_type": ""
        },
        "tags": [],
        "trusted": true
      },
      "outputs": [],
      "source": [
        "single_client_transactions = [10, -50, 40, -20, 40]\n",
        "starting_balance = 0\n",
        "\n",
        "\"\"\"\n",
        "Get the final balance of the account.\n",
        "\"\"\"\n",
        "def get_balance(transactions, starting_balance):\n",
        "    # TODO. Remove `pass` when you are done as this. `pass` is here so Python doesn't complain about unimplemented functions.\n",
        "    pass\n",
        "\n",
        "\"\"\"\n",
        "Get whether the account had a negative balance at some point in time.\n",
        "\"\"\"\n",
        "def has_overdraft_occurred(transactions, starting_balance):\n",
        "    # TODO\n",
        "    pass\n",
        "\n",
        "print(\"Current balance:\")\n",
        "print(get_balance(single_client_transactions, starting_balance)) # 20\n",
        "print(\"The account overdrew at one point:\")\n",
        "print(has_overdraft_occurred(single_client_transactions, starting_balance)) # True"
      ]
    },
    {
      "cell_type": "markdown",
      "metadata": {
        "editable": true,
        "slideshow": {
          "slide_type": ""
        },
        "tags": []
      },
      "source": [
        "## 2. Multiple clients\n",
        "\n",
        "Let's move on to handling more clients.\n",
        "\n",
        "### a) Extracting account-specific transactions\n",
        "\n",
        "Let's say the bank has some centralized ledger storing the list of transactions of the day. Try to determine the balances of our clients. Assume the **payee and recipient cannot be the same**."
      ]
    },
    {
      "cell_type": "code",
      "execution_count": null,
      "metadata": {
        "editable": true,
        "slideshow": {
          "slide_type": ""
        },
        "tags": [],
        "trusted": true
      },
      "outputs": [],
      "source": [
        "# Here we define a list of tuples representing transactions\n",
        "multi_client_transactions = [\n",
        "    # Payee, recipient, amount\n",
        "    (\"Mary\", \"Ben\", 20),\n",
        "    (\"Ben\", \"Mary\", 10),\n",
        "    (\"Conny\", \"Mary\", 40)\n",
        "]\n",
        "\n",
        "starting_balances = {\n",
        "    \"Ben\": 100,\n",
        "    \"Conny\": 30,\n",
        "    \"Mary\": 30\n",
        "}\n",
        "\n",
        "\"\"\"\n",
        "Get a list of transactions in the form in part 1.\n",
        "\"\"\"\n",
        "def get_single_client_transactions(multi_transactions, client):\n",
        "    # TODO\n",
        "    pass\n",
        "\n",
        "mary_transactions = get_single_client_transactions(multi_client_transactions, \"Mary\")\n",
        "ben_transactions = get_single_client_transactions(multi_client_transactions, \"Ben\")\n",
        "\n",
        "print(\"Mary's balance at the end:\")\n",
        "print(get_balance(mary_transactions, starting_balances[\"Mary\"])) # 60\n",
        "print(\"Mary has overdrew:\")\n",
        "print(has_overdraft_occurred(mary_transactions, starting_balances[\"Mary\"])) # False\n",
        "print(\"Ben's balance at the end:\")\n",
        "print(get_balance(ben_transactions, starting_balances[\"Ben\"])) # 110\n",
        "print(\"Ben has overdrew:\")\n",
        "print(has_overdraft_occurred(ben_transactions, starting_balances[\"Ben\"])) # False"
      ]
    },
    {
      "cell_type": "markdown",
      "metadata": {
        "editable": true,
        "slideshow": {
          "slide_type": ""
        },
        "tags": []
      },
      "source": [
        "### b) More automation\n",
        "\n",
        "It may get tedious manually writing `get_balance()` per client in our bank. Let's print them in a **for-loop**. Use `starting_balances.keys()` to get all the account names in a list. Printing in the order of keys of `starting_balances` is fine."
      ]
    },
    {
      "cell_type": "code",
      "execution_count": null,
      "metadata": {
        "editable": true,
        "slideshow": {
          "slide_type": ""
        },
        "tags": [],
        "trusted": true
      },
      "outputs": [],
      "source": [
        "# Try this out\n",
        "# s = \"| %-10s | %10s | %-12s |\\n\" % (\"Client\", \"Balance\", \"Overdraft?  \")\n",
        "# s = s + \"| %-10s | %10d | %-12s |\\n\" % (\"John\", 0, False)\n",
        "# print(s)\n",
        "\n",
        "\"\"\"\n",
        "Get a formatted table in string to summarize client balances given their accounts and starting balances in `starting_balances`\n",
        "\"\"\"\n",
        "def get_accounts_summary(multi_client_transactions, starting_balances):\n",
        "    # TODO\n",
        "    pass\n",
        "\n",
        "print(get_accounts_summary(multi_client_transactions, starting_balances))\n",
        "\n",
        "# | Client     |    Balance | Overdraft?   |\n",
        "# | Ben        |        110 | False        |\n",
        "# | Conny      |        -10 | True         |\n",
        "# | Mary       |         60 | False        |"
      ]
    },
    {
      "cell_type": "markdown",
      "metadata": {
        "editable": true,
        "slideshow": {
          "slide_type": ""
        },
        "tags": []
      },
      "source": [
        "## 3. Account analytics\n",
        "\n",
        "Online banking nowadays offer basic analytics to clients to help them better manage their finances. Let's try to display the debits (money going out) and credits (money going in) of the accounts.\n",
        "\n",
        "Feel free to create additional helper functions if you wish."
      ]
    },
    {
      "cell_type": "code",
      "execution_count": null,
      "metadata": {
        "editable": true,
        "slideshow": {
          "slide_type": ""
        },
        "tags": [],
        "trusted": true
      },
      "outputs": [],
      "source": [
        "\"\"\"\n",
        "Get a formatted table with even more information to summarize the accounts of our clients.\n",
        "\"\"\"\n",
        "def get_advanced_accounts_summary(multi_client_transactions, starting_balances):\n",
        "    # TODO\n",
        "    pass\n",
        "\n",
        "print(get_advanced_accounts_summary(multi_client_transactions, starting_balances))\n",
        "\n",
        "# | Client     |     Debits |    Credits |    Balance | Overdraft?   |\n",
        "# | Ben        |        -10 |         20 |        110 | False        |\n",
        "# | Conny      |        -40 |          0 |        -10 | True         |\n",
        "# | Mary       |        -20 |         50 |         60 | False        |"
      ]
    },
    {
      "cell_type": "markdown",
      "metadata": {
        "editable": true,
        "slideshow": {
          "slide_type": ""
        },
        "tags": []
      },
      "source": [
        "## Test cases\n",
        "\n",
        "Run the entire notebook to see how well your code runs."
      ]
    },
    {
      "cell_type": "code",
      "execution_count": null,
      "metadata": {
        "editable": false,
        "slideshow": {
          "slide_type": ""
        },
        "tags": [],
        "trusted": true
      },
      "outputs": [],
      "source": [
        "test_results = {}\n",
        "\n",
        "def strip(v):\n",
        "    if isinstance(v, str):\n",
        "        return v.strip()\n",
        "    return v\n",
        "\n",
        "def test(q):\n",
        "    global test_results\n",
        "    if q not in test_results:\n",
        "        test_results[q] = []\n",
        "    def t(fn, expected):\n",
        "        r = 0\n",
        "        try:\n",
        "            if fn() == expected:\n",
        "                r = 1\n",
        "        finally:\n",
        "            test_results[q].append(r)\n",
        "    def p():\n",
        "        print(\"\".join([\".\" if r == 1 else \"X\" for r in test_results[q]]))\n",
        "        print(\"Q%d score: %d%%\" % (q, sum(test_results[q]) / len(test_results[q]) * 100))\n",
        "    return (t, p)\n",
        "\n",
        "(test1, print1) = test(1)\n",
        "(test2, print2) = test(2)\n",
        "(test3, print3) = test(3)\n",
        "\n",
        "# Q1\n",
        "test1(lambda: get_balance([], 0), 0)\n",
        "test1(lambda: get_balance([10], 0), 10)\n",
        "test1(lambda: get_balance([10, -5], 0), 5)\n",
        "test1(lambda: get_balance([10, -5], -5), 0)\n",
        "test1(lambda: get_balance([10, -5], -5), 0)\n",
        "test1(lambda: has_overdraft_occurred([], 0), False)\n",
        "test1(lambda: has_overdraft_occurred([], -5), True)\n",
        "test1(lambda: has_overdraft_occurred([10], 0), False)\n",
        "test1(lambda: has_overdraft_occurred([10, -5], 0), False)\n",
        "test1(lambda: has_overdraft_occurred([10, -5], -5), True)\n",
        "test1(lambda: has_overdraft_occurred([-10], 10), False)\n",
        "\n",
        "# Q2\n",
        "mct = [\n",
        "    (\"Mary\", \"Ben\", 15),\n",
        "    (\"Ben\", \"Mary\", 30),\n",
        "    (\"Cindy\", \"Mary\", 25),\n",
        "    (\"Ben\", \"Cindy\", 40),\n",
        "    (\"Mary\", \"Cindy\", 5)\n",
        "]\n",
        "sb = {\n",
        "    \"Ben\": 70,\n",
        "    \"Cindy\": 20,\n",
        "    \"Mary\": 250\n",
        "}\n",
        "test2(lambda: get_single_client_transactions(mct, \"Ben\"), [15, -30, -40])\n",
        "test2(lambda: get_single_client_transactions(mct, \"Mary\"), [-15, 30, 25, -5])\n",
        "test2(lambda: get_single_client_transactions(mct, \"Cindy\"), [-25, 40, 5])\n",
        "test2(lambda: strip(get_accounts_summary(mct, sb)), \"\"\"| Client     |    Balance | Overdraft?   |\n",
        "| Ben        |         15 | False        |\n",
        "| Cindy      |         40 | True         |\n",
        "| Mary       |        285 | False        |\"\"\")\n",
        "\n",
        "# Q3\n",
        "test3(lambda: strip(get_advanced_accounts_summary(mct, sb)), \"\"\"| Client     |     Debits |    Credits |    Balance | Overdraft?   |\n",
        "| Ben        |        -70 |         15 |         15 | False        |\n",
        "| Cindy      |        -25 |         45 |         40 | True         |\n",
        "| Mary       |        -20 |         55 |        285 | False        |\"\"\")\n",
        "\n",
        "print1()\n",
        "print2()\n",
        "print3()\n",
        "\n",
        "v = test_results.values()"
      ]
    }
  ],
  "metadata": {
    "kernelspec": {
      "display_name": "Python (Pyodide)",
      "language": "python",
      "name": "python"
    },
    "language_info": {
      "codemirror_mode": {
        "name": "python",
        "version": 3
      },
      "file_extension": ".py",
      "mimetype": "text/x-python",
      "name": "python",
      "nbconvert_exporter": "python",
      "pygments_lexer": "ipython3",
      "version": "3.8"
    }
  },
  "nbformat": 4,
  "nbformat_minor": 4
}
